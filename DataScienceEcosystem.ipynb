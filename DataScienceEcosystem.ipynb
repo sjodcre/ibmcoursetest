{
 "cells": [
  {
   "cell_type": "markdown",
   "id": "fabceaf2-15a7-407b-850c-fde68d03cede",
   "metadata": {},
   "source": [
    "# Data Science Tools and Ecosystem"
   ]
  },
  {
   "cell_type": "markdown",
   "id": "8f2f2fad-d5c4-47dd-a94c-0eec6eb80b8b",
   "metadata": {},
   "source": [
    "In this notebook, Data Science Tools and Ecosystem are summarized."
   ]
  },
  {
   "cell_type": "markdown",
   "id": "04e1583f-cc79-4f63-8b8a-b7c252a7a827",
   "metadata": {},
   "source": [
    "**Objectives:**\n",
    "- List popular languages for Data Science\n",
    "- List popular libraries for Data Science\n",
    "- Arithmetic expressions examples in Python"
   ]
  },
  {
   "cell_type": "markdown",
   "id": "ced0b9de-f609-448b-8604-e8a4142a5a4d",
   "metadata": {},
   "source": [
    "Some of the popular languages that Data Scientists use are:\n",
    "1. Python\n",
    "2. R\n",
    "3. SQL\n",
    "4. Java"
   ]
  },
  {
   "cell_type": "markdown",
   "id": "52429c8b-d5d9-437f-9e38-daf27e63d4c9",
   "metadata": {},
   "source": [
    "Some of the commonly used libraries used by Data Scientists include:\n",
    "1. Pandas\n",
    "2. Matplotlib\n",
    "3. Scikit-learn\n",
    "4. Tensorflow"
   ]
  },
  {
   "cell_type": "markdown",
   "id": "cc326af5-c698-4173-a612-a2ff5b9ab9f0",
   "metadata": {},
   "source": [
    "### Below are a few examples of evaluating arithmetic expressions in Python."
   ]
  },
  {
   "cell_type": "code",
   "execution_count": 1,
   "id": "46a92640-c49e-48d8-af5b-3e08b72b64c8",
   "metadata": {},
   "outputs": [
    {
     "data": {
      "text/plain": [
       "17"
      ]
     },
     "execution_count": 1,
     "metadata": {},
     "output_type": "execute_result"
    }
   ],
   "source": [
    "# This a simple arithmetic expression to mutiply then add integers\n",
    "(3*4)+5"
   ]
  },
  {
   "cell_type": "code",
   "execution_count": 3,
   "id": "7207d7f9-02f7-4e68-a25b-6463682fca00",
   "metadata": {},
   "outputs": [
    {
     "data": {
      "text/plain": [
       "3.3333333333333335"
      ]
     },
     "execution_count": 3,
     "metadata": {},
     "output_type": "execute_result"
    }
   ],
   "source": [
    "# This will convert 200 minutes to hours by dividing by 60.\n",
    "200/60"
   ]
  },
  {
   "cell_type": "markdown",
   "id": "cdca0602-4b3f-4235-9dc9-fef0ae2818da",
   "metadata": {},
   "source": [
    "## Author\n",
    "Samuel"
   ]
  },
  {
   "cell_type": "code",
   "execution_count": null,
   "id": "1c9d7246-ed7a-4b4f-bb6a-8ab67d08ee8f",
   "metadata": {},
   "outputs": [],
   "source": []
  }
 ],
 "metadata": {
  "kernelspec": {
   "display_name": "Python 3 (ipykernel)",
   "language": "python",
   "name": "python3"
  },
  "language_info": {
   "codemirror_mode": {
    "name": "ipython",
    "version": 3
   },
   "file_extension": ".py",
   "mimetype": "text/x-python",
   "name": "python",
   "nbconvert_exporter": "python",
   "pygments_lexer": "ipython3",
   "version": "3.11.5"
  }
 },
 "nbformat": 4,
 "nbformat_minor": 5
}
